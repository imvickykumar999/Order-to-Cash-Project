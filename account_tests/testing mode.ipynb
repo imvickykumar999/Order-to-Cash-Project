{
 "cells": [
  {
   "cell_type": "code",
   "execution_count": 1,
   "metadata": {},
   "outputs": [
    {
     "data": {
      "text/plain": [
       "<Spreadsheet 'Accounts' id:1aJqW6A_rVdK7bfeX2Lb8O22xztbDFZw29yLwSc3ekUE>"
      ]
     },
     "execution_count": 1,
     "metadata": {},
     "output_type": "execute_result"
    }
   ],
   "source": [
    "from oauth2client.service_account import ServiceAccountCredentials as sac\n",
    "import gspread, os\n",
    "\n",
    "scope = ['https://spreadsheets.google.com/feeds',\n",
    "         'https://www.googleapis.com/auth/drive']\n",
    "\n",
    "# path = './Clouix/Spreadsheets'\n",
    "jfile = 'ideationology-lab-b60654e44e37.json'\n",
    "# jfile = os.path.join(path, jfile)\n",
    "\n",
    "creds = sac.from_json_keyfile_name(jfile, scope)\n",
    "client = gspread.authorize(creds)\n",
    "\n",
    "url = 'https://docs.google.com/spreadsheets/d/1aJqW6A_rVdK7bfeX2Lb8O22xztbDFZw29yLwSc3ekUE/edit#gid=0'\n",
    "sheet = client.open_by_url(url)\n",
    "sheet"
   ]
  },
  {
   "cell_type": "code",
   "execution_count": 2,
   "metadata": {
    "scrolled": true
   },
   "outputs": [],
   "source": [
    "# cust = input('Enter Your Name : ')\n",
    "# try:\n",
    "#     worksheet = sheet.add_worksheet(title = cust, rows=\"100\", cols=\"20\")\n",
    "#     print(worksheet.id)\n",
    "# except Exception as e:\n",
    "#     print(e)"
   ]
  },
  {
   "cell_type": "code",
   "execution_count": 3,
   "metadata": {},
   "outputs": [],
   "source": [
    "# worksheet.id"
   ]
  },
  {
   "cell_type": "code",
   "execution_count": 4,
   "metadata": {},
   "outputs": [],
   "source": [
    "# help(sheet)"
   ]
  },
  {
   "cell_type": "code",
   "execution_count": 5,
   "metadata": {},
   "outputs": [
    {
     "data": {
      "text/plain": [
       "0"
      ]
     },
     "execution_count": 5,
     "metadata": {},
     "output_type": "execute_result"
    }
   ],
   "source": [
    "sheet.sheet1.id"
   ]
  },
  {
   "cell_type": "code",
   "execution_count": 6,
   "metadata": {
    "scrolled": true
   },
   "outputs": [],
   "source": [
    "def mark(attend, sheet_id, top = ['Purchased Date', 'Objects', 'Cost']):\n",
    "    import datetime\n",
    "    dt = str(datetime.datetime.now()).split()\n",
    "\n",
    "    attend.insert(0, ' / '.join(dt))\n",
    "    worksheet_up = sheet.get_worksheet_by_id(sheet_id)\n",
    "\n",
    "    worksheet_up.update('A1', [top])\n",
    "    worksheet_up.format(\"A1:C1\", {\n",
    "        \"horizontalAlignment\": \"CENTER\",\n",
    "        \"textFormat\": {\n",
    "          \"foregroundColor\": {\n",
    "            \"red\": 1.0,\n",
    "            \"green\": 0.0,\n",
    "            \"blue\": 0.0\n",
    "          },\n",
    "          \"fontSize\": 10,\n",
    "          \"bold\": True\n",
    "        }\n",
    "    })\n",
    "\n",
    "    sz = len(worksheet_up.col_values(1))+1\n",
    "    worksheet_up.update(f'A{sz}', [attend])\n",
    "\n",
    "    if top == ['Purchased Date', 'Objects', 'Cost']:\n",
    "        worksheet_up.format(f'B{sz}', {\"textFormat\": {\"bold\": False}})\n",
    "        worksheet_up.format(f'C{sz}', {\"textFormat\": {\"bold\": False}})\n",
    "\n",
    "        worksheet_up.update(f'B{sz+1}', 'Total Cost')\n",
    "        worksheet_up.format(f'B{sz+1}', {\"textFormat\": {\"bold\": True}})\n",
    "\n",
    "        worksheet_up.update(f'C{sz+1}', f\"=SUM(C2:C{sz})\", raw=False)\n",
    "        worksheet_up.format(f'C{sz+1}', {\"textFormat\": {\"bold\": True}}) \n",
    "    \n",
    "    body = {\n",
    "        \"requests\": [\n",
    "            {\n",
    "                \"autoResizeDimensions\": {\n",
    "                    \"dimensions\": {\n",
    "                        \"sheetId\": sheet_id,\n",
    "                        \"dimension\": \"COLUMNS\",\n",
    "                        \"startIndex\": 0,  # Please set the column index.\n",
    "                        \"endIndex\": 3  # Please set the column index.\n",
    "                    }\n",
    "                }\n",
    "            }\n",
    "        ]\n",
    "    }\n",
    "    sheet.batch_update(body) "
   ]
  },
  {
   "cell_type": "code",
   "execution_count": 7,
   "metadata": {},
   "outputs": [],
   "source": [
    "def add_cust(cust):\n",
    "    try:\n",
    "        worksheet = sheet.add_worksheet(title = cust, rows=\"100\", cols=\"20\")\n",
    "        attend = [cust, worksheet.id]\n",
    "        top = ['Joining Date', 'Customer Name', 'Worksheet ID']\n",
    "        mark(attend, 0, top)\n",
    "        return worksheet.id\n",
    "    \n",
    "    except Exception as e:\n",
    "        return e"
   ]
  },
  {
   "cell_type": "code",
   "execution_count": 9,
   "metadata": {
    "scrolled": true
   },
   "outputs": [
    {
     "name": "stdout",
     "output_type": "stream",
     "text": [
      "Enter Your Name : Devid\n"
     ]
    },
    {
     "data": {
      "text/plain": [
       "1571503515"
      ]
     },
     "execution_count": 9,
     "metadata": {},
     "output_type": "execute_result"
    }
   ],
   "source": [
    "cust = input('Enter Your Name : ') \n",
    "sheet_id = add_cust(cust) \n",
    "sheet_id"
   ]
  },
  {
   "cell_type": "code",
   "execution_count": null,
   "metadata": {
    "scrolled": true
   },
   "outputs": [],
   "source": [
    "# try:\n",
    "#     sheet.add_worksheet(title = cust, rows=\"100\", cols=\"20\")\n",
    "# except Exception as e:\n",
    "#     print(e) "
   ]
  },
  {
   "cell_type": "code",
   "execution_count": 11,
   "metadata": {},
   "outputs": [
    {
     "name": "stdout",
     "output_type": "stream",
     "text": [
      "Enter Saman : Files\n",
      "Enter Cost : 45\n",
      "Enter Sheet ID : 706066049\n"
     ]
    }
   ],
   "source": [
    "saman = input('Enter Saman : ')\n",
    "cost = float(input('Enter Cost : '))\n",
    "attend = [saman, cost] \n",
    "\n",
    "sheet_id = int(input('Enter Sheet ID : '))\n",
    "mark(attend, sheet_id)"
   ]
  },
  {
   "cell_type": "code",
   "execution_count": 54,
   "metadata": {},
   "outputs": [],
   "source": [
    "def fetch(sheet_id):\n",
    "    sheet_instance = sheet.get_worksheet_by_id(sheet_id)\n",
    "    records_data = sheet_instance.get_all_records()\n",
    "    return records_data"
   ]
  },
  {
   "cell_type": "code",
   "execution_count": 55,
   "metadata": {},
   "outputs": [
    {
     "name": "stdout",
     "output_type": "stream",
     "text": [
      "Enter Sheet ID : 81909824\n"
     ]
    },
    {
     "data": {
      "text/html": [
       "<div>\n",
       "<style scoped>\n",
       "    .dataframe tbody tr th:only-of-type {\n",
       "        vertical-align: middle;\n",
       "    }\n",
       "\n",
       "    .dataframe tbody tr th {\n",
       "        vertical-align: top;\n",
       "    }\n",
       "\n",
       "    .dataframe thead th {\n",
       "        text-align: right;\n",
       "    }\n",
       "</style>\n",
       "<table border=\"1\" class=\"dataframe\">\n",
       "  <thead>\n",
       "    <tr style=\"text-align: right;\">\n",
       "      <th></th>\n",
       "      <th>Purchased Date</th>\n",
       "      <th>Objects</th>\n",
       "      <th>Cost</th>\n",
       "    </tr>\n",
       "  </thead>\n",
       "  <tbody>\n",
       "    <tr>\n",
       "      <th>1</th>\n",
       "      <td>2022-03-19 / 10:37:43.944695</td>\n",
       "      <td>Pen</td>\n",
       "      <td>5</td>\n",
       "    </tr>\n",
       "    <tr>\n",
       "      <th>2</th>\n",
       "      <td></td>\n",
       "      <td>Total Cost</td>\n",
       "      <td>5</td>\n",
       "    </tr>\n",
       "  </tbody>\n",
       "</table>\n",
       "</div>"
      ],
      "text/plain": [
       "                 Purchased Date     Objects  Cost\n",
       "1  2022-03-19 / 10:37:43.944695         Pen     5\n",
       "2                                Total Cost     5"
      ]
     },
     "execution_count": 55,
     "metadata": {},
     "output_type": "execute_result"
    }
   ],
   "source": [
    "# sheet_id = sheet.sheet1.id\n",
    "# sheet_id = 44448155\n",
    "\n",
    "sheet_id = int(input('Enter Sheet ID : '))\n",
    "ret = fetch(sheet_id)\n",
    "\n",
    "import pandas as pd\n",
    "df = pd.DataFrame(ret) \n",
    "df.index += 1\n",
    "df "
   ]
  },
  {
   "cell_type": "code",
   "execution_count": 79,
   "metadata": {},
   "outputs": [
    {
     "data": {
      "text/plain": [
       "{'spreadsheetId': '1sLT6ZM4IeXB7eBxKLtPsYphZSimRqGOV2rPg94JbWaM',\n",
       " 'replies': [{}]}"
      ]
     },
     "execution_count": 79,
     "metadata": {},
     "output_type": "execute_result"
    }
   ],
   "source": [
    "sheet_id = 620708464\n",
    "body = {\n",
    "    \"requests\": [\n",
    "        {\n",
    "            \"autoResizeDimensions\": {\n",
    "                \"dimensions\": {\n",
    "                    \"sheetId\": sheet_id,\n",
    "                    \"dimension\": \"COLUMNS\",\n",
    "                    \"startIndex\": 0,  # Please set the column index.\n",
    "                    \"endIndex\": 1  # Please set the column index.\n",
    "                }\n",
    "            }\n",
    "        }\n",
    "    ]\n",
    "}\n",
    "\n",
    "sheet.batch_update(body)"
   ]
  },
  {
   "cell_type": "code",
   "execution_count": 80,
   "metadata": {},
   "outputs": [
    {
     "data": {
      "text/plain": [
       "620708464"
      ]
     },
     "execution_count": 80,
     "metadata": {},
     "output_type": "execute_result"
    }
   ],
   "source": [
    "sheet_id"
   ]
  },
  {
   "cell_type": "code",
   "execution_count": null,
   "metadata": {},
   "outputs": [],
   "source": []
  }
 ],
 "metadata": {
  "kernelspec": {
   "display_name": "Python 3",
   "language": "python",
   "name": "python3"
  },
  "language_info": {
   "codemirror_mode": {
    "name": "ipython",
    "version": 3
   },
   "file_extension": ".py",
   "mimetype": "text/x-python",
   "name": "python",
   "nbconvert_exporter": "python",
   "pygments_lexer": "ipython3",
   "version": "3.8.3"
  }
 },
 "nbformat": 4,
 "nbformat_minor": 4
}
